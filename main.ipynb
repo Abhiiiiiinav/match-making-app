{
 "cells": [
  {
   "cell_type": "code",
   "execution_count": 1,
   "id": "96749db3",
   "metadata": {},
   "outputs": [],
   "source": [
    "import pandas as pd\n",
    "import numpy as np\n",
    "from sklearn.model_selection import train_test_split\n",
    "import matplotlib.pyplot as plt\n"
   ]
  },
  {
   "cell_type": "code",
   "execution_count": null,
   "id": "06d8e3de",
   "metadata": {},
   "outputs": [],
   "source": []
  },
  {
   "cell_type": "markdown",
   "id": "069d6c27",
   "metadata": {},
   "source": [
    "# Get Dataset\n"
   ]
  },
  {
   "cell_type": "code",
   "execution_count": 2,
   "id": "4127518d",
   "metadata": {},
   "outputs": [
    {
     "name": "stdout",
     "output_type": "stream",
     "text": [
      "Dataset saved at: c:\\Users\\abhin\\OneDrive\\Documents\\MY Coding Space\\Learning Topics\\New folder\\MatchMakingApp\\matchmaking_dataset_with_missing.csv\n",
      "   user_id    name   age  gender   location      interests favorite_artist  \\\n",
      "0        1     NaN  26.0    Male        NaN            NaN     Seedhe Maut   \n",
      "1        2    Pari  18.0    Male     Indore   Street Dance             NaN   \n",
      "2        3     NaN   NaN  Female     Ranchi     Beatboxing             NaN   \n",
      "3        4    Pari  29.0  Female     Jaipur      Traveling     Talha Yunus   \n",
      "4        5   Navya  28.0    Male      Delhi       Concerts        Brodha V   \n",
      "5        6     NaN  22.0  Female      Surat       Concerts         Raftaar   \n",
      "6        7  Aadhya  30.0  Female      Kochi        Hip-Hop           KR$NA   \n",
      "7        8   Aarav  26.0    Male  Hyderabad       Open Mic   Emiway Bantai   \n",
      "8        9     Ira   NaN  Female    Lucknow         Poetry             NaN   \n",
      "9       10     Sai  31.0    Male     Nagpur  Book Shopping   Emiway Bantai   \n",
      "\n",
      "   personality availability           event_type  \n",
      "0  Spontaneous     Weekends    Producer Showcase  \n",
      "1          NaN     Evenings           Rap Battle  \n",
      "2        Chill     Weekdays             Open Mic  \n",
      "3    Practical     Weekends             Workshop  \n",
      "4         Bold     Evenings          Cypher Meet  \n",
      "5     Ambivert     Weekdays  Street Dance Battle  \n",
      "6    Practical          NaN          Indie Night  \n",
      "7      Realist     Weekends      Music Tech Fest  \n",
      "8      Curious          NaN          Cypher Meet  \n",
      "9        Chill          NaN    Producer Showcase  \n"
     ]
    }
   ],
   "source": [
    "import os\n",
    "import pandas as pd\n",
    "import random\n",
    "import numpy as np\n",
    "\n",
    "# Lists (same as before, shortened here for readability)\n",
    "names = [\"Aarav\", \"Vivaan\", \"Aditya\", \"Vihaan\", \"Arjun\",\n",
    "         \"Sai\", \"Reyansh\", \"Krishna\", \"Ishaan\", \"Kabir\",\n",
    "         \"Anaya\", \"Diya\", \"Myra\", \"Aadhya\", \"Pari\", \n",
    "         \"Saanvi\", \"Anika\", \"Navya\", \"Aarohi\", \"Ira\"]\n",
    "\n",
    "locations = [\"Mumbai\", \"Delhi\", \"Bangalore\", \"Hyderabad\", \"Chennai\", \n",
    "             \"Kolkata\", \"Pune\", \"Ahmedabad\", \"Jaipur\", \"Lucknow\",\n",
    "             \"Indore\", \"Bhopal\", \"Nagpur\", \"Surat\", \"Chandigarh\", \n",
    "             \"Goa\", \"Guwahati\", \"Kochi\", \"Patna\", \"Ranchi\"]\n",
    "\n",
    "interests = [\"Hip-Hop\", \"Bollywood\", \"Dance\", \"Rap Battles\", \"Freestyle\", \n",
    "             \"Graffiti\", \"Street Dance\", \"Poetry\", \"DJ Nights\", \"Open Mic\", \n",
    "             \"Music Production\", \"Beatboxing\", \"Concerts\", \"Gigs\", \"Art\", \n",
    "             \"Coding\", \"Football\", \"Cricket\", \"Basketball\", \"Skating\",\n",
    "             \"Book Shopping\", \"Traveling\"]\n",
    "\n",
    "artists = [\"DIVINE\", \"MC Stan\", \"Seedhe Maut\", \"KR$NA\", \"Raftaar\", \n",
    "           \"Ikka\", \"Brodha V\", \"Prabh Deep\", \"Fotty Seven\", \"Badshah\", \n",
    "           \"King\", \"Karma\", \"Arijit Singh\", \"Karan Aujla\", \"Masala Coffee\", \n",
    "           \"Bloodywood\", \"Emiway Bantai\", \"Naezy\", \"Talha Anjum\", \"Talha Yunus\",\n",
    "           \"Sidhu Moosewala\", \"Dino James\", \"Jubin Nautiyal\", \"Shreya Ghoshal\"]\n",
    "\n",
    "personalities = [\"Extrovert\", \"Introvert\", \"Ambivert\", \"Optimist\", \"Realist\",\n",
    "                 \"Dreamer\", \"Leader\", \"Chill\", \"Adventurous\", \"Calm\",\n",
    "                 \"Creative\", \"Analytical\", \"Empathetic\", \"Funny\",\n",
    "                 \"Serious\", \"Curious\", \"Spontaneous\", \"Practical\", \"Bold\", \"Kind\"]\n",
    "\n",
    "event_types = [\"Concert\", \"Rap Battle\", \"Music Festival\", \"Open Mic\", \"DJ Night\", \n",
    "               \"Street Dance Battle\", \"Graffiti Jam\", \"Poetry Slam\", \"Workshop\", \n",
    "               \"Album Launch\", \"Listening Party\", \"Stand-up\", \"Dance Jam\", \n",
    "               \"Indie Night\",\"Collab Event\", \"Cypher Meet\", \"Music Tech Fest\", \n",
    "               \"Producer Showcase\", \"Beatbox Battle\", \"Afterparty\"]\n",
    "\n",
    "availability_options = [\"Weekdays\", \"Weekends\", \"Evenings\", \"Flexible\"]\n",
    "\n",
    "# Helper function: randomly insert NaN with 15% chance\n",
    "def maybe_nan(value, prob=0.15):\n",
    "    return value if random.random() > prob else np.nan\n",
    "\n",
    "# Generate 100 synthetic user profiles\n",
    "random.seed(42)\n",
    "data = []\n",
    "for i in range(1, 101):\n",
    "    record = {\n",
    "        \"user_id\": i,\n",
    "        \"name\": maybe_nan(random.choice(names)),\n",
    "        \"age\": maybe_nan(random.randint(18, 35)),\n",
    "        \"gender\": maybe_nan(random.choice([\"Male\", \"Female\"])),\n",
    "        \"location\": maybe_nan(random.choice(locations)),\n",
    "        \"interests\": maybe_nan(random.choice(interests)),\n",
    "        \"favorite_artist\": maybe_nan(random.choice(artists)),\n",
    "        \"personality\": maybe_nan(random.choice(personalities)),\n",
    "        \"availability\": maybe_nan(random.choice(availability_options)),\n",
    "        \"event_type\": maybe_nan(random.choice(event_types))\n",
    "    }\n",
    "    data.append(record)\n",
    "\n",
    "df = pd.DataFrame(data)\n",
    "\n",
    "# Save CSV into current working directory\n",
    "file_path = os.path.join(os.getcwd(), \"matchmaking_dataset_with_missing.csv\")\n",
    "df.to_csv(file_path, index=False)\n",
    "\n",
    "print(\"Dataset saved at:\", file_path)\n",
    "print(df.head(10))  # preview first 10 rows\n"
   ]
  },
  {
   "cell_type": "code",
   "execution_count": 3,
   "id": "da8c9772",
   "metadata": {},
   "outputs": [
    {
     "data": {
      "text/html": [
       "<div>\n",
       "<style scoped>\n",
       "    .dataframe tbody tr th:only-of-type {\n",
       "        vertical-align: middle;\n",
       "    }\n",
       "\n",
       "    .dataframe tbody tr th {\n",
       "        vertical-align: top;\n",
       "    }\n",
       "\n",
       "    .dataframe thead th {\n",
       "        text-align: right;\n",
       "    }\n",
       "</style>\n",
       "<table border=\"1\" class=\"dataframe\">\n",
       "  <thead>\n",
       "    <tr style=\"text-align: right;\">\n",
       "      <th></th>\n",
       "      <th>user_id</th>\n",
       "      <th>name</th>\n",
       "      <th>age</th>\n",
       "      <th>gender</th>\n",
       "      <th>location</th>\n",
       "      <th>interests</th>\n",
       "      <th>favorite_artist</th>\n",
       "      <th>personality</th>\n",
       "      <th>availability</th>\n",
       "      <th>event_type</th>\n",
       "    </tr>\n",
       "  </thead>\n",
       "  <tbody>\n",
       "    <tr>\n",
       "      <th>0</th>\n",
       "      <td>1</td>\n",
       "      <td>NaN</td>\n",
       "      <td>26.0</td>\n",
       "      <td>Male</td>\n",
       "      <td>NaN</td>\n",
       "      <td>NaN</td>\n",
       "      <td>Seedhe Maut</td>\n",
       "      <td>Spontaneous</td>\n",
       "      <td>Weekends</td>\n",
       "      <td>Producer Showcase</td>\n",
       "    </tr>\n",
       "    <tr>\n",
       "      <th>1</th>\n",
       "      <td>2</td>\n",
       "      <td>Pari</td>\n",
       "      <td>18.0</td>\n",
       "      <td>Male</td>\n",
       "      <td>Indore</td>\n",
       "      <td>Street Dance</td>\n",
       "      <td>NaN</td>\n",
       "      <td>NaN</td>\n",
       "      <td>Evenings</td>\n",
       "      <td>Rap Battle</td>\n",
       "    </tr>\n",
       "    <tr>\n",
       "      <th>2</th>\n",
       "      <td>3</td>\n",
       "      <td>NaN</td>\n",
       "      <td>NaN</td>\n",
       "      <td>Female</td>\n",
       "      <td>Ranchi</td>\n",
       "      <td>Beatboxing</td>\n",
       "      <td>NaN</td>\n",
       "      <td>Chill</td>\n",
       "      <td>Weekdays</td>\n",
       "      <td>Open Mic</td>\n",
       "    </tr>\n",
       "    <tr>\n",
       "      <th>3</th>\n",
       "      <td>4</td>\n",
       "      <td>Pari</td>\n",
       "      <td>29.0</td>\n",
       "      <td>Female</td>\n",
       "      <td>Jaipur</td>\n",
       "      <td>Traveling</td>\n",
       "      <td>Talha Yunus</td>\n",
       "      <td>Practical</td>\n",
       "      <td>Weekends</td>\n",
       "      <td>Workshop</td>\n",
       "    </tr>\n",
       "    <tr>\n",
       "      <th>4</th>\n",
       "      <td>5</td>\n",
       "      <td>Navya</td>\n",
       "      <td>28.0</td>\n",
       "      <td>Male</td>\n",
       "      <td>Delhi</td>\n",
       "      <td>Concerts</td>\n",
       "      <td>Brodha V</td>\n",
       "      <td>Bold</td>\n",
       "      <td>Evenings</td>\n",
       "      <td>Cypher Meet</td>\n",
       "    </tr>\n",
       "    <tr>\n",
       "      <th>5</th>\n",
       "      <td>6</td>\n",
       "      <td>NaN</td>\n",
       "      <td>22.0</td>\n",
       "      <td>Female</td>\n",
       "      <td>Surat</td>\n",
       "      <td>Concerts</td>\n",
       "      <td>Raftaar</td>\n",
       "      <td>Ambivert</td>\n",
       "      <td>Weekdays</td>\n",
       "      <td>Street Dance Battle</td>\n",
       "    </tr>\n",
       "    <tr>\n",
       "      <th>6</th>\n",
       "      <td>7</td>\n",
       "      <td>Aadhya</td>\n",
       "      <td>30.0</td>\n",
       "      <td>Female</td>\n",
       "      <td>Kochi</td>\n",
       "      <td>Hip-Hop</td>\n",
       "      <td>KR$NA</td>\n",
       "      <td>Practical</td>\n",
       "      <td>NaN</td>\n",
       "      <td>Indie Night</td>\n",
       "    </tr>\n",
       "    <tr>\n",
       "      <th>7</th>\n",
       "      <td>8</td>\n",
       "      <td>Aarav</td>\n",
       "      <td>26.0</td>\n",
       "      <td>Male</td>\n",
       "      <td>Hyderabad</td>\n",
       "      <td>Open Mic</td>\n",
       "      <td>Emiway Bantai</td>\n",
       "      <td>Realist</td>\n",
       "      <td>Weekends</td>\n",
       "      <td>Music Tech Fest</td>\n",
       "    </tr>\n",
       "    <tr>\n",
       "      <th>8</th>\n",
       "      <td>9</td>\n",
       "      <td>Ira</td>\n",
       "      <td>NaN</td>\n",
       "      <td>Female</td>\n",
       "      <td>Lucknow</td>\n",
       "      <td>Poetry</td>\n",
       "      <td>NaN</td>\n",
       "      <td>Curious</td>\n",
       "      <td>NaN</td>\n",
       "      <td>Cypher Meet</td>\n",
       "    </tr>\n",
       "    <tr>\n",
       "      <th>9</th>\n",
       "      <td>10</td>\n",
       "      <td>Sai</td>\n",
       "      <td>31.0</td>\n",
       "      <td>Male</td>\n",
       "      <td>Nagpur</td>\n",
       "      <td>Book Shopping</td>\n",
       "      <td>Emiway Bantai</td>\n",
       "      <td>Chill</td>\n",
       "      <td>NaN</td>\n",
       "      <td>Producer Showcase</td>\n",
       "    </tr>\n",
       "  </tbody>\n",
       "</table>\n",
       "</div>"
      ],
      "text/plain": [
       "   user_id    name   age  gender   location      interests favorite_artist  \\\n",
       "0        1     NaN  26.0    Male        NaN            NaN     Seedhe Maut   \n",
       "1        2    Pari  18.0    Male     Indore   Street Dance             NaN   \n",
       "2        3     NaN   NaN  Female     Ranchi     Beatboxing             NaN   \n",
       "3        4    Pari  29.0  Female     Jaipur      Traveling     Talha Yunus   \n",
       "4        5   Navya  28.0    Male      Delhi       Concerts        Brodha V   \n",
       "5        6     NaN  22.0  Female      Surat       Concerts         Raftaar   \n",
       "6        7  Aadhya  30.0  Female      Kochi        Hip-Hop           KR$NA   \n",
       "7        8   Aarav  26.0    Male  Hyderabad       Open Mic   Emiway Bantai   \n",
       "8        9     Ira   NaN  Female    Lucknow         Poetry             NaN   \n",
       "9       10     Sai  31.0    Male     Nagpur  Book Shopping   Emiway Bantai   \n",
       "\n",
       "   personality availability           event_type  \n",
       "0  Spontaneous     Weekends    Producer Showcase  \n",
       "1          NaN     Evenings           Rap Battle  \n",
       "2        Chill     Weekdays             Open Mic  \n",
       "3    Practical     Weekends             Workshop  \n",
       "4         Bold     Evenings          Cypher Meet  \n",
       "5     Ambivert     Weekdays  Street Dance Battle  \n",
       "6    Practical          NaN          Indie Night  \n",
       "7      Realist     Weekends      Music Tech Fest  \n",
       "8      Curious          NaN          Cypher Meet  \n",
       "9        Chill          NaN    Producer Showcase  "
      ]
     },
     "execution_count": 3,
     "metadata": {},
     "output_type": "execute_result"
    }
   ],
   "source": [
    "df.head(10)"
   ]
  },
  {
   "cell_type": "code",
   "execution_count": 4,
   "id": "24f0ea07",
   "metadata": {},
   "outputs": [
    {
     "data": {
      "text/html": [
       "<div>\n",
       "<style scoped>\n",
       "    .dataframe tbody tr th:only-of-type {\n",
       "        vertical-align: middle;\n",
       "    }\n",
       "\n",
       "    .dataframe tbody tr th {\n",
       "        vertical-align: top;\n",
       "    }\n",
       "\n",
       "    .dataframe thead th {\n",
       "        text-align: right;\n",
       "    }\n",
       "</style>\n",
       "<table border=\"1\" class=\"dataframe\">\n",
       "  <thead>\n",
       "    <tr style=\"text-align: right;\">\n",
       "      <th></th>\n",
       "      <th>count</th>\n",
       "      <th>mean</th>\n",
       "      <th>std</th>\n",
       "      <th>min</th>\n",
       "      <th>25%</th>\n",
       "      <th>50%</th>\n",
       "      <th>75%</th>\n",
       "      <th>max</th>\n",
       "    </tr>\n",
       "  </thead>\n",
       "  <tbody>\n",
       "    <tr>\n",
       "      <th>user_id</th>\n",
       "      <td>100.0</td>\n",
       "      <td>50.500000</td>\n",
       "      <td>29.011492</td>\n",
       "      <td>1.0</td>\n",
       "      <td>25.75</td>\n",
       "      <td>50.5</td>\n",
       "      <td>75.25</td>\n",
       "      <td>100.0</td>\n",
       "    </tr>\n",
       "    <tr>\n",
       "      <th>age</th>\n",
       "      <td>85.0</td>\n",
       "      <td>26.870588</td>\n",
       "      <td>5.331372</td>\n",
       "      <td>18.0</td>\n",
       "      <td>22.00</td>\n",
       "      <td>28.0</td>\n",
       "      <td>32.00</td>\n",
       "      <td>35.0</td>\n",
       "    </tr>\n",
       "  </tbody>\n",
       "</table>\n",
       "</div>"
      ],
      "text/plain": [
       "         count       mean        std   min    25%   50%    75%    max\n",
       "user_id  100.0  50.500000  29.011492   1.0  25.75  50.5  75.25  100.0\n",
       "age       85.0  26.870588   5.331372  18.0  22.00  28.0  32.00   35.0"
      ]
     },
     "execution_count": 4,
     "metadata": {},
     "output_type": "execute_result"
    }
   ],
   "source": [
    "df.describe().T"
   ]
  },
  {
   "cell_type": "code",
   "execution_count": 5,
   "id": "a690c7e2",
   "metadata": {},
   "outputs": [
    {
     "data": {
      "text/plain": [
       "user_id             0\n",
       "name               14\n",
       "age                15\n",
       "gender             13\n",
       "location           17\n",
       "interests          16\n",
       "favorite_artist    22\n",
       "personality        14\n",
       "availability       11\n",
       "event_type          6\n",
       "dtype: int64"
      ]
     },
     "execution_count": 5,
     "metadata": {},
     "output_type": "execute_result"
    }
   ],
   "source": [
    "df.isna().sum()"
   ]
  },
  {
   "cell_type": "code",
   "execution_count": 6,
   "id": "d9c8458c",
   "metadata": {},
   "outputs": [
    {
     "data": {
      "text/html": [
       "<div>\n",
       "<style scoped>\n",
       "    .dataframe tbody tr th:only-of-type {\n",
       "        vertical-align: middle;\n",
       "    }\n",
       "\n",
       "    .dataframe tbody tr th {\n",
       "        vertical-align: top;\n",
       "    }\n",
       "\n",
       "    .dataframe thead th {\n",
       "        text-align: right;\n",
       "    }\n",
       "</style>\n",
       "<table border=\"1\" class=\"dataframe\">\n",
       "  <thead>\n",
       "    <tr style=\"text-align: right;\">\n",
       "      <th></th>\n",
       "      <th>user_id</th>\n",
       "      <th>name</th>\n",
       "      <th>age</th>\n",
       "      <th>gender</th>\n",
       "      <th>location</th>\n",
       "      <th>interests</th>\n",
       "      <th>favorite_artist</th>\n",
       "      <th>personality</th>\n",
       "      <th>availability</th>\n",
       "      <th>event_type</th>\n",
       "    </tr>\n",
       "  </thead>\n",
       "  <tbody>\n",
       "    <tr>\n",
       "      <th>0</th>\n",
       "      <td>1</td>\n",
       "      <td>NaN</td>\n",
       "      <td>26.0</td>\n",
       "      <td>Male</td>\n",
       "      <td>NaN</td>\n",
       "      <td>NaN</td>\n",
       "      <td>Seedhe Maut</td>\n",
       "      <td>Spontaneous</td>\n",
       "      <td>Weekends</td>\n",
       "      <td>Producer Showcase</td>\n",
       "    </tr>\n",
       "    <tr>\n",
       "      <th>1</th>\n",
       "      <td>2</td>\n",
       "      <td>Pari</td>\n",
       "      <td>18.0</td>\n",
       "      <td>Male</td>\n",
       "      <td>Indore</td>\n",
       "      <td>Street Dance</td>\n",
       "      <td>NaN</td>\n",
       "      <td>NaN</td>\n",
       "      <td>Evenings</td>\n",
       "      <td>Rap Battle</td>\n",
       "    </tr>\n",
       "    <tr>\n",
       "      <th>2</th>\n",
       "      <td>3</td>\n",
       "      <td>NaN</td>\n",
       "      <td>NaN</td>\n",
       "      <td>Female</td>\n",
       "      <td>Ranchi</td>\n",
       "      <td>Beatboxing</td>\n",
       "      <td>NaN</td>\n",
       "      <td>Chill</td>\n",
       "      <td>Weekdays</td>\n",
       "      <td>Open Mic</td>\n",
       "    </tr>\n",
       "    <tr>\n",
       "      <th>3</th>\n",
       "      <td>4</td>\n",
       "      <td>Pari</td>\n",
       "      <td>29.0</td>\n",
       "      <td>Female</td>\n",
       "      <td>Jaipur</td>\n",
       "      <td>Traveling</td>\n",
       "      <td>Talha Yunus</td>\n",
       "      <td>Practical</td>\n",
       "      <td>Weekends</td>\n",
       "      <td>Workshop</td>\n",
       "    </tr>\n",
       "    <tr>\n",
       "      <th>4</th>\n",
       "      <td>5</td>\n",
       "      <td>Navya</td>\n",
       "      <td>28.0</td>\n",
       "      <td>Male</td>\n",
       "      <td>Delhi</td>\n",
       "      <td>Concerts</td>\n",
       "      <td>Brodha V</td>\n",
       "      <td>Bold</td>\n",
       "      <td>Evenings</td>\n",
       "      <td>Cypher Meet</td>\n",
       "    </tr>\n",
       "  </tbody>\n",
       "</table>\n",
       "</div>"
      ],
      "text/plain": [
       "   user_id   name   age  gender location     interests favorite_artist  \\\n",
       "0        1    NaN  26.0    Male      NaN           NaN     Seedhe Maut   \n",
       "1        2   Pari  18.0    Male   Indore  Street Dance             NaN   \n",
       "2        3    NaN   NaN  Female   Ranchi    Beatboxing             NaN   \n",
       "3        4   Pari  29.0  Female   Jaipur     Traveling     Talha Yunus   \n",
       "4        5  Navya  28.0    Male    Delhi      Concerts        Brodha V   \n",
       "\n",
       "   personality availability         event_type  \n",
       "0  Spontaneous     Weekends  Producer Showcase  \n",
       "1          NaN     Evenings         Rap Battle  \n",
       "2        Chill     Weekdays           Open Mic  \n",
       "3    Practical     Weekends           Workshop  \n",
       "4         Bold     Evenings        Cypher Meet  "
      ]
     },
     "execution_count": 6,
     "metadata": {},
     "output_type": "execute_result"
    }
   ],
   "source": [
    "df.head()"
   ]
  },
  {
   "cell_type": "code",
   "execution_count": 7,
   "id": "ecf15248",
   "metadata": {},
   "outputs": [],
   "source": [
    "df['age'].fillna(df['age'].median(), inplace=True)\n",
    "df['name'].fillna('Name',inplace=True)\n",
    "df['gender'].fillna(df['gender'].mode()[0],inplace=True)\n",
    "df['location'].fillna(df['location'].mode()[0],inplace=True)\n",
    "df['interests'].fillna('Sleeping',inplace=True)\n",
    "df['favorite_artist'].fillna('Anuv Jain',inplace=True)\n",
    "df['personality'].fillna('Macheiavilist',inplace=True)\n",
    "df['availability'].fillna('Not Available',inplace=True)\n",
    "df['event_type'].fillna('Hangout/ meet',inplace=True)\n"
   ]
  },
  {
   "cell_type": "code",
   "execution_count": 8,
   "id": "e34c5fbf",
   "metadata": {},
   "outputs": [
    {
     "data": {
      "text/plain": [
       "user_id            0\n",
       "name               0\n",
       "age                0\n",
       "gender             0\n",
       "location           0\n",
       "interests          0\n",
       "favorite_artist    0\n",
       "personality        0\n",
       "availability       0\n",
       "event_type         0\n",
       "dtype: int64"
      ]
     },
     "execution_count": 8,
     "metadata": {},
     "output_type": "execute_result"
    }
   ],
   "source": [
    "df.isna().sum()"
   ]
  },
  {
   "cell_type": "code",
   "execution_count": 9,
   "id": "eacf7808",
   "metadata": {},
   "outputs": [
    {
     "data": {
      "text/html": [
       "<div>\n",
       "<style scoped>\n",
       "    .dataframe tbody tr th:only-of-type {\n",
       "        vertical-align: middle;\n",
       "    }\n",
       "\n",
       "    .dataframe tbody tr th {\n",
       "        vertical-align: top;\n",
       "    }\n",
       "\n",
       "    .dataframe thead th {\n",
       "        text-align: right;\n",
       "    }\n",
       "</style>\n",
       "<table border=\"1\" class=\"dataframe\">\n",
       "  <thead>\n",
       "    <tr style=\"text-align: right;\">\n",
       "      <th></th>\n",
       "      <th>user_id</th>\n",
       "      <th>name</th>\n",
       "      <th>age</th>\n",
       "      <th>gender</th>\n",
       "      <th>location</th>\n",
       "      <th>interests</th>\n",
       "      <th>favorite_artist</th>\n",
       "      <th>personality</th>\n",
       "      <th>availability</th>\n",
       "      <th>event_type</th>\n",
       "    </tr>\n",
       "  </thead>\n",
       "  <tbody>\n",
       "    <tr>\n",
       "      <th>0</th>\n",
       "      <td>1</td>\n",
       "      <td>Name</td>\n",
       "      <td>26.0</td>\n",
       "      <td>Male</td>\n",
       "      <td>Delhi</td>\n",
       "      <td>Sleeping</td>\n",
       "      <td>Seedhe Maut</td>\n",
       "      <td>Spontaneous</td>\n",
       "      <td>Weekends</td>\n",
       "      <td>Producer Showcase</td>\n",
       "    </tr>\n",
       "    <tr>\n",
       "      <th>1</th>\n",
       "      <td>2</td>\n",
       "      <td>Pari</td>\n",
       "      <td>18.0</td>\n",
       "      <td>Male</td>\n",
       "      <td>Indore</td>\n",
       "      <td>Street Dance</td>\n",
       "      <td>Anuv Jain</td>\n",
       "      <td>Macheiavilist</td>\n",
       "      <td>Evenings</td>\n",
       "      <td>Rap Battle</td>\n",
       "    </tr>\n",
       "    <tr>\n",
       "      <th>2</th>\n",
       "      <td>3</td>\n",
       "      <td>Name</td>\n",
       "      <td>28.0</td>\n",
       "      <td>Female</td>\n",
       "      <td>Ranchi</td>\n",
       "      <td>Beatboxing</td>\n",
       "      <td>Anuv Jain</td>\n",
       "      <td>Chill</td>\n",
       "      <td>Weekdays</td>\n",
       "      <td>Open Mic</td>\n",
       "    </tr>\n",
       "    <tr>\n",
       "      <th>3</th>\n",
       "      <td>4</td>\n",
       "      <td>Pari</td>\n",
       "      <td>29.0</td>\n",
       "      <td>Female</td>\n",
       "      <td>Jaipur</td>\n",
       "      <td>Traveling</td>\n",
       "      <td>Talha Yunus</td>\n",
       "      <td>Practical</td>\n",
       "      <td>Weekends</td>\n",
       "      <td>Workshop</td>\n",
       "    </tr>\n",
       "    <tr>\n",
       "      <th>4</th>\n",
       "      <td>5</td>\n",
       "      <td>Navya</td>\n",
       "      <td>28.0</td>\n",
       "      <td>Male</td>\n",
       "      <td>Delhi</td>\n",
       "      <td>Concerts</td>\n",
       "      <td>Brodha V</td>\n",
       "      <td>Bold</td>\n",
       "      <td>Evenings</td>\n",
       "      <td>Cypher Meet</td>\n",
       "    </tr>\n",
       "    <tr>\n",
       "      <th>5</th>\n",
       "      <td>6</td>\n",
       "      <td>Name</td>\n",
       "      <td>22.0</td>\n",
       "      <td>Female</td>\n",
       "      <td>Surat</td>\n",
       "      <td>Concerts</td>\n",
       "      <td>Raftaar</td>\n",
       "      <td>Ambivert</td>\n",
       "      <td>Weekdays</td>\n",
       "      <td>Street Dance Battle</td>\n",
       "    </tr>\n",
       "    <tr>\n",
       "      <th>6</th>\n",
       "      <td>7</td>\n",
       "      <td>Aadhya</td>\n",
       "      <td>30.0</td>\n",
       "      <td>Female</td>\n",
       "      <td>Kochi</td>\n",
       "      <td>Hip-Hop</td>\n",
       "      <td>KR$NA</td>\n",
       "      <td>Practical</td>\n",
       "      <td>Not Available</td>\n",
       "      <td>Indie Night</td>\n",
       "    </tr>\n",
       "    <tr>\n",
       "      <th>7</th>\n",
       "      <td>8</td>\n",
       "      <td>Aarav</td>\n",
       "      <td>26.0</td>\n",
       "      <td>Male</td>\n",
       "      <td>Hyderabad</td>\n",
       "      <td>Open Mic</td>\n",
       "      <td>Emiway Bantai</td>\n",
       "      <td>Realist</td>\n",
       "      <td>Weekends</td>\n",
       "      <td>Music Tech Fest</td>\n",
       "    </tr>\n",
       "    <tr>\n",
       "      <th>8</th>\n",
       "      <td>9</td>\n",
       "      <td>Ira</td>\n",
       "      <td>28.0</td>\n",
       "      <td>Female</td>\n",
       "      <td>Lucknow</td>\n",
       "      <td>Poetry</td>\n",
       "      <td>Anuv Jain</td>\n",
       "      <td>Curious</td>\n",
       "      <td>Not Available</td>\n",
       "      <td>Cypher Meet</td>\n",
       "    </tr>\n",
       "    <tr>\n",
       "      <th>9</th>\n",
       "      <td>10</td>\n",
       "      <td>Sai</td>\n",
       "      <td>31.0</td>\n",
       "      <td>Male</td>\n",
       "      <td>Nagpur</td>\n",
       "      <td>Book Shopping</td>\n",
       "      <td>Emiway Bantai</td>\n",
       "      <td>Chill</td>\n",
       "      <td>Not Available</td>\n",
       "      <td>Producer Showcase</td>\n",
       "    </tr>\n",
       "  </tbody>\n",
       "</table>\n",
       "</div>"
      ],
      "text/plain": [
       "   user_id    name   age  gender   location      interests favorite_artist  \\\n",
       "0        1    Name  26.0    Male      Delhi       Sleeping     Seedhe Maut   \n",
       "1        2    Pari  18.0    Male     Indore   Street Dance       Anuv Jain   \n",
       "2        3    Name  28.0  Female     Ranchi     Beatboxing       Anuv Jain   \n",
       "3        4    Pari  29.0  Female     Jaipur      Traveling     Talha Yunus   \n",
       "4        5   Navya  28.0    Male      Delhi       Concerts        Brodha V   \n",
       "5        6    Name  22.0  Female      Surat       Concerts         Raftaar   \n",
       "6        7  Aadhya  30.0  Female      Kochi        Hip-Hop           KR$NA   \n",
       "7        8   Aarav  26.0    Male  Hyderabad       Open Mic   Emiway Bantai   \n",
       "8        9     Ira  28.0  Female    Lucknow         Poetry       Anuv Jain   \n",
       "9       10     Sai  31.0    Male     Nagpur  Book Shopping   Emiway Bantai   \n",
       "\n",
       "     personality   availability           event_type  \n",
       "0    Spontaneous       Weekends    Producer Showcase  \n",
       "1  Macheiavilist       Evenings           Rap Battle  \n",
       "2          Chill       Weekdays             Open Mic  \n",
       "3      Practical       Weekends             Workshop  \n",
       "4           Bold       Evenings          Cypher Meet  \n",
       "5       Ambivert       Weekdays  Street Dance Battle  \n",
       "6      Practical  Not Available          Indie Night  \n",
       "7        Realist       Weekends      Music Tech Fest  \n",
       "8        Curious  Not Available          Cypher Meet  \n",
       "9          Chill  Not Available    Producer Showcase  "
      ]
     },
     "execution_count": 9,
     "metadata": {},
     "output_type": "execute_result"
    }
   ],
   "source": [
    "df.head(10)"
   ]
  },
  {
   "cell_type": "code",
   "execution_count": 10,
   "id": "6c064e97",
   "metadata": {},
   "outputs": [
    {
     "data": {
      "text/plain": [
       "gender\n",
       "Female    60\n",
       "Male      40\n",
       "Name: count, dtype: int64"
      ]
     },
     "execution_count": 10,
     "metadata": {},
     "output_type": "execute_result"
    }
   ],
   "source": [
    "gender_counts=df['gender'].value_counts()\n",
    "gender_counts"
   ]
  },
  {
   "cell_type": "code",
   "execution_count": null,
   "id": "ed5bc35c",
   "metadata": {},
   "outputs": [
    {
     "data": {
      "text/plain": [
       "<Axes: xlabel='gender'>"
      ]
     },
     "execution_count": 11,
     "metadata": {},
     "output_type": "execute_result"
    },
    {
     "data": {
      "image/png": "[encoded data removed]",
      "text/plain": [
       "<Figure size 640x480 with 1 Axes>"
      ]
     },
     "metadata": {},
     "output_type": "display_data"
    }
   ],
   "source": [
    "gender_counts.plot(kind='bar',color=['blue','pink'])"
   ]
  },
  {
   "cell_type": "code",
   "execution_count": 13,
   "id": "4f92feca",
   "metadata": {},
   "outputs": [
    {
     "data": {
      "image/png": "[encoded data removed]",
      "text/plain": [
       "<Figure size 640x480 with 1 Axes>"
      ]
     },
     "metadata": {},
     "output_type": "display_data"
    }
   ],
   "source": [
    "df['age'].plot(kind='hist',bins=15,color='purple')\n",
    "plt.xlabel('Age')\n",
    "plt.ylabel('Number of Users')\n",
    "plt.title('Age Distribution of Users')\n",
    "plt.show()"
   ]
  },
  {
   "cell_type": "code",
   "execution_count": 14,
   "id": "e7589bfb",
   "metadata": {},
   "outputs": [
    {
     "data": {
      "text/plain": [
       "Index(['user_id', 'name', 'age', 'gender', 'location', 'interests',\n",
       "       'favorite_artist', 'personality', 'availability', 'event_type'],\n",
       "      dtype='object')"
      ]
     },
     "execution_count": 14,
     "metadata": {},
     "output_type": "execute_result"
    }
   ],
   "source": [
    "df.columns"
   ]
  },
  {
   "cell_type": "code",
   "execution_count": 16,
   "id": "2b597116",
   "metadata": {},
   "outputs": [
    {
     "data": {
      "text/plain": [
       "<Axes: xlabel='interests'>"
      ]
     },
     "execution_count": 16,
     "metadata": {},
     "output_type": "execute_result"
    },
    {
     "data": {
      "image/png": "[encoded data removed]",
      "text/plain": [
       "<Figure size 640x480 with 1 Axes>"
      ]
     },
     "metadata": {},
     "output_type": "display_data"
    }
   ],
   "source": [
    "interest_count = df['interests'].value_counts()\n",
    "interest_count.plot(kind='bar')"
   ]
  },
  {
   "cell_type": "code",
   "execution_count": 17,
   "id": "c31359e6",
   "metadata": {},
   "outputs": [
    {
     "data": {
      "text/plain": [
       "<Axes: xlabel='event_type'>"
      ]
     },
     "execution_count": 17,
     "metadata": {},
     "output_type": "execute_result"
    },
    {
     "data": {
      "image/png": "[encoded data removed]",
      "text/plain": [
       "<Figure size 640x480 with 1 Axes>"
      ]
     },
     "metadata": {},
     "output_type": "display_data"
    }
   ],
   "source": [
    "events = df['event_type'].value_counts()\n",
    "events.plot(kind='bar',color='orange')\n",
    "\n"
   ]
  },
  {
   "cell_type": "code",
   "execution_count": 19,
   "id": "8d4e3af0",
   "metadata": {},
   "outputs": [
    {
     "name": "stderr",
     "output_type": "stream",
     "text": [
      "C:\\Users\\abhin\\AppData\\Local\\Packages\\PythonSoftwareFoundation.Python.3.11_qbz5n2kfra8p0\\LocalCache\\local-packages\\Python311\\site-packages\\numpy\\lib\\function_base.py:2845: RuntimeWarning: Degrees of freedom <= 0 for slice\n",
      "  c = cov(x, y, rowvar, dtype=dtype)\n",
      "C:\\Users\\abhin\\AppData\\Local\\Packages\\PythonSoftwareFoundation.Python.3.11_qbz5n2kfra8p0\\LocalCache\\local-packages\\Python311\\site-packages\\numpy\\lib\\function_base.py:2704: RuntimeWarning: divide by zero encountered in divide\n",
      "  c *= np.true_divide(1, fact)\n"
     ]
    },
    {
     "data": {
      "text/plain": [
       "nan"
      ]
     },
     "execution_count": 19,
     "metadata": {},
     "output_type": "execute_result"
    }
   ],
   "source": [
    "events_corr = events.corr(interest_count)\n",
    "events_corr"
   ]
  },
  {
   "cell_type": "code",
   "execution_count": null,
   "id": "2e42a8d8",
   "metadata": {},
   "outputs": [],
   "source": []
  }
 ],
 "metadata": {
  "kernelspec": {
   "display_name": "Python 3",
   "language": "python",
   "name": "python3"
  },
  "language_info": {
   "codemirror_mode": {
    "name": "ipython",
    "version": 3
   },
   "file_extension": ".py",
   "mimetype": "text/x-python",
   "name": "python",
   "nbconvert_exporter": "python",
   "pygments_lexer": "ipython3",
   "version": "3.11.9"
  }
 },
 "nbformat": 4,
 "nbformat_minor": 5
}
